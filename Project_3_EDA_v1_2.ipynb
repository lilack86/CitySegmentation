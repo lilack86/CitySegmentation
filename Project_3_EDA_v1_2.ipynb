{
  "nbformat": 4,
  "nbformat_minor": 0,
  "metadata": {
    "colab": {
      "provenance": []
    },
    "kernelspec": {
      "name": "python3",
      "display_name": "Python 3"
    },
    "language_info": {
      "name": "python"
    }
  },
  "cells": [
    {
      "cell_type": "code",
      "execution_count": null,
      "metadata": {
        "id": "itKwiTwwuW-E"
      },
      "outputs": [],
      "source": []
    },
    {
      "cell_type": "markdown",
      "source": [
        "## Project 3 - City Segmentation - EDA\n",
        "This is EDA for project city segmentation"
      ],
      "metadata": {
        "id": "tbjFdXvEAipX"
      }
    },
    {
      "cell_type": "code",
      "source": [
        "from google.colab import drive\n",
        "drive.mount('/content/drive')"
      ],
      "metadata": {
        "colab": {
          "base_uri": "https://localhost:8080/"
        },
        "id": "nMmyLAHdunCe",
        "outputId": "d7a79116-c752-4131-cd66-5c1103a5eb7f"
      },
      "execution_count": null,
      "outputs": [
        {
          "output_type": "stream",
          "name": "stdout",
          "text": [
            "Mounted at /content/drive\n"
          ]
        }
      ]
    },
    {
      "cell_type": "code",
      "source": [
        "!mkdir data"
      ],
      "metadata": {
        "id": "pH2cPO8nuooN"
      },
      "execution_count": null,
      "outputs": []
    },
    {
      "cell_type": "code",
      "source": [
        "!cp \"/content/drive/MyDrive/Colab Notebooks/Driving_Car/Dataset/annotations_prepped_test-20230811T065240Z-001-20240502T190854Z-001.zip\" data/\n",
        "!cp \"/content/drive/MyDrive/Colab Notebooks/Driving_Car/Dataset/annotations_prepped_train-20230811T065240Z-001-20240502T190611Z-001.zip\" data/\n",
        "!cp \"/content/drive/MyDrive/Colab Notebooks/Driving_Car/Dataset/images_prepped_test-20230811T065241Z-001-20240502T190844Z-001.zip\" data/\n",
        "!cp \"/content/drive/MyDrive/Colab Notebooks/Driving_Car/Dataset/images_prepped_train-20230811T065243Z-001-20240502T190536Z-001.zip\" data/"
      ],
      "metadata": {
        "id": "SZqtFyMVvIPi"
      },
      "execution_count": null,
      "outputs": []
    },
    {
      "cell_type": "code",
      "source": [
        "!ls \"/content/drive/MyDrive/Colab Notebooks/Driving_Car/Dataset/\""
      ],
      "metadata": {
        "colab": {
          "base_uri": "https://localhost:8080/"
        },
        "id": "aHFjn_tkvU3u",
        "outputId": "2b06169c-0ca8-42a0-8030-922d79692d3b"
      },
      "execution_count": null,
      "outputs": [
        {
          "output_type": "stream",
          "name": "stdout",
          "text": [
            "annotations_prepped_test-20230811T065240Z-001-20240502T190854Z-001.zip\n",
            "annotations_prepped_train-20230811T065240Z-001-20240502T190611Z-001.zip\n",
            "images_prepped_test-20230811T065241Z-001-20240502T190844Z-001.zip\n",
            "images_prepped_train-20230811T065243Z-001-20240502T190536Z-001.zip\n"
          ]
        }
      ]
    },
    {
      "cell_type": "code",
      "source": [
        "!mkdir /content/datasets_used\n",
        "!mkdir /content/datasets_used/train\n",
        "!mkdir /content/datasets_used/train/images\n",
        "!mkdir /content/datasets_used/train/masks\n",
        "!mkdir /content/datasets_used/test\n",
        "!mkdir /content/datasets_used/test/images\n",
        "!mkdir /content/datasets_used/test/masks"
      ],
      "metadata": {
        "colab": {
          "base_uri": "https://localhost:8080/"
        },
        "id": "OpvhSiEJvccE",
        "outputId": "3258d239-8dbe-4cbd-ad7f-80c61079ded0"
      },
      "execution_count": null,
      "outputs": [
        {
          "output_type": "stream",
          "name": "stdout",
          "text": [
            "mkdir: cannot create directory ‘/content/datasets_used’: File exists\n",
            "mkdir: cannot create directory ‘/content/datasets_used/train’: File exists\n",
            "mkdir: cannot create directory ‘/content/datasets_used/train/images’: File exists\n",
            "mkdir: cannot create directory ‘/content/datasets_used/test’: File exists\n",
            "mkdir: cannot create directory ‘/content/datasets_used/test/images’: File exists\n"
          ]
        }
      ]
    },
    {
      "cell_type": "code",
      "source": [
        "#!rm -rf datasets_used"
      ],
      "metadata": {
        "id": "7t88iIUUz1-b"
      },
      "execution_count": null,
      "outputs": []
    },
    {
      "cell_type": "code",
      "source": [
        "!cp /content/data/*train* /content/datasets_used/train/\n",
        "!cp /content/data/*test* /content/datasets_used/test/"
      ],
      "metadata": {
        "id": "b5aKwik918gT"
      },
      "execution_count": null,
      "outputs": []
    },
    {
      "cell_type": "code",
      "source": [
        "%cd /content/datasets_used/train/\n",
        "!unzip /content/datasets_used/train/images_prepped_train-20230811T065243Z-001-20240502T190536Z-001.zip\n",
        "!unzip /content/datasets_used/train/annotations_prepped_train-20230811T065240Z-001-20240502T190611Z-001.zip"
      ],
      "metadata": {
        "id": "BUZulTqH5KG6"
      },
      "execution_count": null,
      "outputs": []
    },
    {
      "cell_type": "code",
      "source": [
        "%cd /content/datasets_used/test/\n",
        "!unzip /content/datasets_used/test/images_prepped_test-20230811T065241Z-001-20240502T190844Z-001.zip\n",
        "!unzip /content/datasets_used/test/annotations_prepped_test-20230811T065240Z-001-20240502T190854Z-001.zip"
      ],
      "metadata": {
        "colab": {
          "base_uri": "https://localhost:8080/"
        },
        "id": "Z5bi33Qp3efI",
        "outputId": "aeb112db-c25c-4219-b85d-ea71f146fd59"
      },
      "execution_count": null,
      "outputs": [
        {
          "output_type": "stream",
          "name": "stdout",
          "text": [
            "/content/datasets_used/test\n",
            "Archive:  /content/datasets_used/test/images_prepped_test-20230811T065241Z-001-20240502T190844Z-001.zip\n",
            "  inflating: images_prepped_test-20230811T065241Z-001/images_prepped_test/0016E5_08077.png  \n",
            "  inflating: images_prepped_test-20230811T065241Z-001/images_prepped_test/0016E5_08033.png  \n",
            "  inflating: images_prepped_test-20230811T065241Z-001/images_prepped_test/0016E5_08137.png  \n",
            "  inflating: images_prepped_test-20230811T065241Z-001/images_prepped_test/0016E5_08131.png  \n",
            "  inflating: images_prepped_test-20230811T065241Z-001/images_prepped_test/0016E5_08041.png  \n",
            "  inflating: images_prepped_test-20230811T065241Z-001/images_prepped_test/0016E5_08011.png  \n",
            "  inflating: images_prepped_test-20230811T065241Z-001/images_prepped_test/0016E5_08007.png  \n",
            "  inflating: images_prepped_test-20230811T065241Z-001/images_prepped_test/0016E5_08107.png  \n",
            "  inflating: images_prepped_test-20230811T065241Z-001/images_prepped_test/0016E5_08035.png  \n",
            "  inflating: images_prepped_test-20230811T065241Z-001/images_prepped_test/0016E5_08139.png  \n",
            "  inflating: images_prepped_test-20230811T065241Z-001/images_prepped_test/0016E5_08119.png  \n",
            "  inflating: images_prepped_test-20230811T065241Z-001/images_prepped_test/0016E5_08079.png  \n",
            "  inflating: images_prepped_test-20230811T065241Z-001/images_prepped_test/0016E5_08049.png  \n",
            "  inflating: images_prepped_test-20230811T065241Z-001/images_prepped_test/0016E5_08103.png  \n",
            "  inflating: images_prepped_test-20230811T065241Z-001/images_prepped_test/0016E5_08085.png  \n",
            "  inflating: images_prepped_test-20230811T065241Z-001/images_prepped_test/0016E5_08071.png  \n",
            "  inflating: images_prepped_test-20230811T065241Z-001/images_prepped_test/0016E5_08065.png  \n",
            "  inflating: images_prepped_test-20230811T065241Z-001/images_prepped_test/0016E5_08051.png  \n",
            "  inflating: images_prepped_test-20230811T065241Z-001/images_prepped_test/0016E5_07987.png  \n",
            "  inflating: images_prepped_test-20230811T065241Z-001/images_prepped_test/0016E5_08029.png  \n",
            "  inflating: images_prepped_test-20230811T065241Z-001/images_prepped_test/0016E5_08105.png  \n",
            "  inflating: images_prepped_test-20230811T065241Z-001/images_prepped_test/0016E5_08039.png  \n",
            "  inflating: images_prepped_test-20230811T065241Z-001/images_prepped_test/0016E5_08069.png  \n",
            "  inflating: images_prepped_test-20230811T065241Z-001/images_prepped_test/0016E5_08043.png  \n",
            "  inflating: images_prepped_test-20230811T065241Z-001/images_prepped_test/0016E5_07995.png  \n",
            "  inflating: images_prepped_test-20230811T065241Z-001/images_prepped_test/0016E5_08115.png  \n",
            "  inflating: images_prepped_test-20230811T065241Z-001/images_prepped_test/0016E5_08055.png  \n",
            "  inflating: images_prepped_test-20230811T065241Z-001/images_prepped_test/0016E5_07971.png  \n",
            "  inflating: images_prepped_test-20230811T065241Z-001/images_prepped_test/0016E5_08003.png  \n",
            "  inflating: images_prepped_test-20230811T065241Z-001/images_prepped_test/0016E5_08023.png  \n",
            "  inflating: images_prepped_test-20230811T065241Z-001/images_prepped_test/0016E5_08067.png  \n",
            "  inflating: images_prepped_test-20230811T065241Z-001/images_prepped_test/0016E5_08021.png  \n",
            "  inflating: images_prepped_test-20230811T065241Z-001/images_prepped_test/0016E5_07989.png  \n",
            "  inflating: images_prepped_test-20230811T065241Z-001/images_prepped_test/0016E5_07975.png  \n",
            "  inflating: images_prepped_test-20230811T065241Z-001/images_prepped_test/0016E5_07993.png  \n",
            "  inflating: images_prepped_test-20230811T065241Z-001/images_prepped_test/0016E5_08097.png  \n",
            "  inflating: images_prepped_test-20230811T065241Z-001/images_prepped_test/0016E5_08141.png  \n",
            "  inflating: images_prepped_test-20230811T065241Z-001/images_prepped_test/0016E5_07959.png  \n",
            "  inflating: images_prepped_test-20230811T065241Z-001/images_prepped_test/0016E5_08127.png  \n",
            "  inflating: images_prepped_test-20230811T065241Z-001/images_prepped_test/0016E5_07981.png  \n",
            "  inflating: images_prepped_test-20230811T065241Z-001/images_prepped_test/0016E5_08017.png  \n",
            "  inflating: images_prepped_test-20230811T065241Z-001/images_prepped_test/0016E5_08147.png  \n",
            "  inflating: images_prepped_test-20230811T065241Z-001/images_prepped_test/0016E5_08083.png  \n",
            "  inflating: images_prepped_test-20230811T065241Z-001/images_prepped_test/0016E5_08089.png  \n",
            "  inflating: images_prepped_test-20230811T065241Z-001/images_prepped_test/0016E5_08111.png  \n",
            "  inflating: images_prepped_test-20230811T065241Z-001/images_prepped_test/0016E5_08053.png  \n",
            "  inflating: images_prepped_test-20230811T065241Z-001/images_prepped_test/0016E5_08073.png  \n",
            "  inflating: images_prepped_test-20230811T065241Z-001/images_prepped_test/0016E5_07967.png  \n",
            "  inflating: images_prepped_test-20230811T065241Z-001/images_prepped_test/0016E5_07999.png  \n",
            "  inflating: images_prepped_test-20230811T065241Z-001/images_prepped_test/0016E5_08005.png  \n",
            "  inflating: images_prepped_test-20230811T065241Z-001/images_prepped_test/0016E5_08143.png  \n",
            "  inflating: images_prepped_test-20230811T065241Z-001/images_prepped_test/0016E5_07979.png  \n",
            "  inflating: images_prepped_test-20230811T065241Z-001/images_prepped_test/0016E5_08047.png  \n",
            "  inflating: images_prepped_test-20230811T065241Z-001/images_prepped_test/0016E5_07963.png  \n",
            "  inflating: images_prepped_test-20230811T065241Z-001/images_prepped_test/0016E5_08037.png  \n",
            "  inflating: images_prepped_test-20230811T065241Z-001/images_prepped_test/0016E5_08059.png  \n",
            "  inflating: images_prepped_test-20230811T065241Z-001/images_prepped_test/0016E5_08019.png  \n",
            "  inflating: images_prepped_test-20230811T065241Z-001/images_prepped_test/0016E5_08045.png  \n",
            "  inflating: images_prepped_test-20230811T065241Z-001/images_prepped_test/0016E5_07983.png  \n",
            "  inflating: images_prepped_test-20230811T065241Z-001/images_prepped_test/0016E5_08129.png  \n",
            "  inflating: images_prepped_test-20230811T065241Z-001/images_prepped_test/0016E5_08063.png  \n",
            "  inflating: images_prepped_test-20230811T065241Z-001/images_prepped_test/0016E5_08095.png  \n",
            "  inflating: images_prepped_test-20230811T065241Z-001/images_prepped_test/0016E5_08155.png  \n",
            "  inflating: images_prepped_test-20230811T065241Z-001/images_prepped_test/0016E5_08117.png  \n",
            "  inflating: images_prepped_test-20230811T065241Z-001/images_prepped_test/0016E5_07991.png  \n",
            "  inflating: images_prepped_test-20230811T065241Z-001/images_prepped_test/0016E5_08001.png  \n",
            "  inflating: images_prepped_test-20230811T065241Z-001/images_prepped_test/0016E5_08125.png  \n",
            "  inflating: images_prepped_test-20230811T065241Z-001/images_prepped_test/0016E5_08061.png  \n",
            "  inflating: images_prepped_test-20230811T065241Z-001/images_prepped_test/0016E5_07969.png  \n",
            "  inflating: images_prepped_test-20230811T065241Z-001/images_prepped_test/0016E5_08013.png  \n",
            "  inflating: images_prepped_test-20230811T065241Z-001/images_prepped_test/0016E5_08121.png  \n",
            "  inflating: images_prepped_test-20230811T065241Z-001/images_prepped_test/0016E5_08093.png  \n",
            "  inflating: images_prepped_test-20230811T065241Z-001/images_prepped_test/0016E5_08157.png  \n",
            "  inflating: images_prepped_test-20230811T065241Z-001/images_prepped_test/0016E5_08149.png  \n",
            "  inflating: images_prepped_test-20230811T065241Z-001/images_prepped_test/0016E5_08133.png  \n",
            "  inflating: images_prepped_test-20230811T065241Z-001/images_prepped_test/0016E5_08109.png  \n",
            "  inflating: images_prepped_test-20230811T065241Z-001/images_prepped_test/0016E5_08135.png  \n",
            "  inflating: images_prepped_test-20230811T065241Z-001/images_prepped_test/0016E5_08027.png  \n",
            "  inflating: images_prepped_test-20230811T065241Z-001/images_prepped_test/0016E5_08123.png  \n",
            "  inflating: images_prepped_test-20230811T065241Z-001/images_prepped_test/0016E5_08057.png  \n",
            "  inflating: images_prepped_test-20230811T065241Z-001/images_prepped_test/0016E5_08159.png  \n",
            "  inflating: images_prepped_test-20230811T065241Z-001/images_prepped_test/0016E5_08145.png  \n",
            "  inflating: images_prepped_test-20230811T065241Z-001/images_prepped_test/0016E5_08113.png  \n",
            "  inflating: images_prepped_test-20230811T065241Z-001/images_prepped_test/0016E5_08009.png  \n",
            "  inflating: images_prepped_test-20230811T065241Z-001/images_prepped_test/0016E5_07977.png  \n",
            "  inflating: images_prepped_test-20230811T065241Z-001/images_prepped_test/0016E5_08075.png  \n",
            "  inflating: images_prepped_test-20230811T065241Z-001/images_prepped_test/0016E5_07985.png  \n",
            "  inflating: images_prepped_test-20230811T065241Z-001/images_prepped_test/0016E5_07997.png  \n",
            "  inflating: images_prepped_test-20230811T065241Z-001/images_prepped_test/0016E5_08025.png  \n",
            "  inflating: images_prepped_test-20230811T065241Z-001/images_prepped_test/0016E5_07973.png  \n",
            "  inflating: images_prepped_test-20230811T065241Z-001/images_prepped_test/0016E5_08151.png  \n",
            "  inflating: images_prepped_test-20230811T065241Z-001/images_prepped_test/0016E5_08099.png  \n",
            "  inflating: images_prepped_test-20230811T065241Z-001/images_prepped_test/0016E5_07961.png  \n",
            "  inflating: images_prepped_test-20230811T065241Z-001/images_prepped_test/0016E5_08091.png  \n",
            "  inflating: images_prepped_test-20230811T065241Z-001/images_prepped_test/0016E5_08031.png  \n",
            "  inflating: images_prepped_test-20230811T065241Z-001/images_prepped_test/0016E5_08081.png  \n",
            "  inflating: images_prepped_test-20230811T065241Z-001/images_prepped_test/0016E5_08015.png  \n",
            "  inflating: images_prepped_test-20230811T065241Z-001/images_prepped_test/0016E5_08153.png  \n",
            "  inflating: images_prepped_test-20230811T065241Z-001/images_prepped_test/0016E5_08087.png  \n",
            "  inflating: images_prepped_test-20230811T065241Z-001/images_prepped_test/0016E5_08101.png  \n",
            "  inflating: images_prepped_test-20230811T065241Z-001/images_prepped_test/0016E5_07965.png  \n",
            "Archive:  /content/datasets_used/test/annotations_prepped_test-20230811T065240Z-001-20240502T190854Z-001.zip\n",
            "  inflating: annotations_prepped_test-20230811T065240Z-001/annotations_prepped_test/0016E5_08117.png  \n",
            "  inflating: annotations_prepped_test-20230811T065240Z-001/annotations_prepped_test/0016E5_08113.png  \n",
            "  inflating: annotations_prepped_test-20230811T065240Z-001/annotations_prepped_test/0016E5_08123.png  \n",
            "  inflating: annotations_prepped_test-20230811T065240Z-001/annotations_prepped_test/0016E5_08027.png  \n",
            "  inflating: annotations_prepped_test-20230811T065240Z-001/annotations_prepped_test/0016E5_07967.png  \n",
            "  inflating: annotations_prepped_test-20230811T065240Z-001/annotations_prepped_test/0016E5_08157.png  \n",
            "  inflating: annotations_prepped_test-20230811T065240Z-001/annotations_prepped_test/0016E5_07973.png  \n",
            "  inflating: annotations_prepped_test-20230811T065240Z-001/annotations_prepped_test/0016E5_08039.png  \n",
            "  inflating: annotations_prepped_test-20230811T065240Z-001/annotations_prepped_test/0016E5_07985.png  \n",
            "  inflating: annotations_prepped_test-20230811T065240Z-001/annotations_prepped_test/0016E5_08017.png  \n",
            "  inflating: annotations_prepped_test-20230811T065240Z-001/annotations_prepped_test/0016E5_07995.png  \n",
            "  inflating: annotations_prepped_test-20230811T065240Z-001/annotations_prepped_test/0016E5_07981.png  \n",
            "  inflating: annotations_prepped_test-20230811T065240Z-001/annotations_prepped_test/0016E5_08001.png  \n",
            "  inflating: annotations_prepped_test-20230811T065240Z-001/annotations_prepped_test/0016E5_08021.png  \n",
            "  inflating: annotations_prepped_test-20230811T065240Z-001/annotations_prepped_test/0016E5_08019.png  \n",
            "  inflating: annotations_prepped_test-20230811T065240Z-001/annotations_prepped_test/0016E5_08069.png  \n",
            "  inflating: annotations_prepped_test-20230811T065240Z-001/annotations_prepped_test/0016E5_08043.png  \n",
            "  inflating: annotations_prepped_test-20230811T065240Z-001/annotations_prepped_test/0016E5_08119.png  \n",
            "  inflating: annotations_prepped_test-20230811T065240Z-001/annotations_prepped_test/0016E5_08121.png  \n",
            "  inflating: annotations_prepped_test-20230811T065240Z-001/annotations_prepped_test/0016E5_08109.png  \n",
            "  inflating: annotations_prepped_test-20230811T065240Z-001/annotations_prepped_test/0016E5_08009.png  \n",
            "  inflating: annotations_prepped_test-20230811T065240Z-001/annotations_prepped_test/0016E5_07965.png  \n",
            "  inflating: annotations_prepped_test-20230811T065240Z-001/annotations_prepped_test/0016E5_08149.png  \n",
            "  inflating: annotations_prepped_test-20230811T065240Z-001/annotations_prepped_test/0016E5_07975.png  \n",
            "  inflating: annotations_prepped_test-20230811T065240Z-001/annotations_prepped_test/0016E5_08057.png  \n",
            "  inflating: annotations_prepped_test-20230811T065240Z-001/annotations_prepped_test/0016E5_08097.png  \n",
            "  inflating: annotations_prepped_test-20230811T065240Z-001/annotations_prepped_test/0016E5_08011.png  \n",
            "  inflating: annotations_prepped_test-20230811T065240Z-001/annotations_prepped_test/0016E5_07959.png  \n",
            "  inflating: annotations_prepped_test-20230811T065240Z-001/annotations_prepped_test/0016E5_08047.png  \n",
            "  inflating: annotations_prepped_test-20230811T065240Z-001/annotations_prepped_test/0016E5_08103.png  \n",
            "  inflating: annotations_prepped_test-20230811T065240Z-001/annotations_prepped_test/0016E5_08079.png  \n",
            "  inflating: annotations_prepped_test-20230811T065240Z-001/annotations_prepped_test/0016E5_07989.png  \n",
            "  inflating: annotations_prepped_test-20230811T065240Z-001/annotations_prepped_test/0016E5_07961.png  \n",
            "  inflating: annotations_prepped_test-20230811T065240Z-001/annotations_prepped_test/0016E5_08131.png  \n",
            "  inflating: annotations_prepped_test-20230811T065240Z-001/annotations_prepped_test/0016E5_08141.png  \n",
            "  inflating: annotations_prepped_test-20230811T065240Z-001/annotations_prepped_test/0016E5_08085.png  \n",
            "  inflating: annotations_prepped_test-20230811T065240Z-001/annotations_prepped_test/0016E5_08023.png  \n",
            "  inflating: annotations_prepped_test-20230811T065240Z-001/annotations_prepped_test/0016E5_08049.png  \n",
            "  inflating: annotations_prepped_test-20230811T065240Z-001/annotations_prepped_test/0016E5_08063.png  \n",
            "  inflating: annotations_prepped_test-20230811T065240Z-001/annotations_prepped_test/0016E5_08033.png  \n",
            "  inflating: annotations_prepped_test-20230811T065240Z-001/annotations_prepped_test/0016E5_08073.png  \n",
            "  inflating: annotations_prepped_test-20230811T065240Z-001/annotations_prepped_test/0016E5_07993.png  \n",
            "  inflating: annotations_prepped_test-20230811T065240Z-001/annotations_prepped_test/0016E5_07983.png  \n",
            "  inflating: annotations_prepped_test-20230811T065240Z-001/annotations_prepped_test/0016E5_08003.png  \n",
            "  inflating: annotations_prepped_test-20230811T065240Z-001/annotations_prepped_test/0016E5_08065.png  \n",
            "  inflating: annotations_prepped_test-20230811T065240Z-001/annotations_prepped_test/0016E5_08137.png  \n",
            "  inflating: annotations_prepped_test-20230811T065240Z-001/annotations_prepped_test/0016E5_08143.png  \n",
            "  inflating: annotations_prepped_test-20230811T065240Z-001/annotations_prepped_test/0016E5_08053.png  \n",
            "  inflating: annotations_prepped_test-20230811T065240Z-001/annotations_prepped_test/0016E5_08159.png  \n",
            "  inflating: annotations_prepped_test-20230811T065240Z-001/annotations_prepped_test/0016E5_08075.png  \n",
            "  inflating: annotations_prepped_test-20230811T065240Z-001/annotations_prepped_test/0016E5_08035.png  \n",
            "  inflating: annotations_prepped_test-20230811T065240Z-001/annotations_prepped_test/0016E5_08077.png  \n",
            "  inflating: annotations_prepped_test-20230811T065240Z-001/annotations_prepped_test/0016E5_08089.png  \n",
            "  inflating: annotations_prepped_test-20230811T065240Z-001/annotations_prepped_test/0016E5_08007.png  \n",
            "  inflating: annotations_prepped_test-20230811T065240Z-001/annotations_prepped_test/0016E5_08037.png  \n",
            "  inflating: annotations_prepped_test-20230811T065240Z-001/annotations_prepped_test/0016E5_08013.png  \n",
            "  inflating: annotations_prepped_test-20230811T065240Z-001/annotations_prepped_test/0016E5_08095.png  \n",
            "  inflating: annotations_prepped_test-20230811T065240Z-001/annotations_prepped_test/0016E5_07987.png  \n",
            "  inflating: annotations_prepped_test-20230811T065240Z-001/annotations_prepped_test/0016E5_07999.png  \n",
            "  inflating: annotations_prepped_test-20230811T065240Z-001/annotations_prepped_test/0016E5_07977.png  \n",
            "  inflating: annotations_prepped_test-20230811T065240Z-001/annotations_prepped_test/0016E5_08155.png  \n",
            "  inflating: annotations_prepped_test-20230811T065240Z-001/annotations_prepped_test/0016E5_08091.png  \n",
            "  inflating: annotations_prepped_test-20230811T065240Z-001/annotations_prepped_test/0016E5_08135.png  \n",
            "  inflating: annotations_prepped_test-20230811T065240Z-001/annotations_prepped_test/0016E5_08111.png  \n",
            "  inflating: annotations_prepped_test-20230811T065240Z-001/annotations_prepped_test/0016E5_08051.png  \n",
            "  inflating: annotations_prepped_test-20230811T065240Z-001/annotations_prepped_test/0016E5_08093.png  \n",
            "  inflating: annotations_prepped_test-20230811T065240Z-001/annotations_prepped_test/0016E5_07963.png  \n",
            "  inflating: annotations_prepped_test-20230811T065240Z-001/annotations_prepped_test/0016E5_08151.png  \n",
            "  inflating: annotations_prepped_test-20230811T065240Z-001/annotations_prepped_test/0016E5_08129.png  \n",
            "  inflating: annotations_prepped_test-20230811T065240Z-001/annotations_prepped_test/0016E5_08107.png  \n",
            "  inflating: annotations_prepped_test-20230811T065240Z-001/annotations_prepped_test/0016E5_08025.png  \n",
            "  inflating: annotations_prepped_test-20230811T065240Z-001/annotations_prepped_test/0016E5_08045.png  \n",
            "  inflating: annotations_prepped_test-20230811T065240Z-001/annotations_prepped_test/0016E5_08087.png  \n",
            "  inflating: annotations_prepped_test-20230811T065240Z-001/annotations_prepped_test/0016E5_08081.png  \n",
            "  inflating: annotations_prepped_test-20230811T065240Z-001/annotations_prepped_test/0016E5_08067.png  \n",
            "  inflating: annotations_prepped_test-20230811T065240Z-001/annotations_prepped_test/0016E5_08125.png  \n",
            "  inflating: annotations_prepped_test-20230811T065240Z-001/annotations_prepped_test/0016E5_08127.png  \n",
            "  inflating: annotations_prepped_test-20230811T065240Z-001/annotations_prepped_test/0016E5_07969.png  \n",
            "  inflating: annotations_prepped_test-20230811T065240Z-001/annotations_prepped_test/0016E5_08105.png  \n",
            "  inflating: annotations_prepped_test-20230811T065240Z-001/annotations_prepped_test/0016E5_08145.png  \n",
            "  inflating: annotations_prepped_test-20230811T065240Z-001/annotations_prepped_test/0016E5_08133.png  \n",
            "  inflating: annotations_prepped_test-20230811T065240Z-001/annotations_prepped_test/0016E5_08059.png  \n",
            "  inflating: annotations_prepped_test-20230811T065240Z-001/annotations_prepped_test/0016E5_08029.png  \n",
            "  inflating: annotations_prepped_test-20230811T065240Z-001/annotations_prepped_test/0016E5_08055.png  \n",
            "  inflating: annotations_prepped_test-20230811T065240Z-001/annotations_prepped_test/0016E5_08115.png  \n",
            "  inflating: annotations_prepped_test-20230811T065240Z-001/annotations_prepped_test/0016E5_08099.png  \n",
            "  inflating: annotations_prepped_test-20230811T065240Z-001/annotations_prepped_test/0016E5_07971.png  \n",
            "  inflating: annotations_prepped_test-20230811T065240Z-001/annotations_prepped_test/0016E5_08005.png  \n",
            "  inflating: annotations_prepped_test-20230811T065240Z-001/annotations_prepped_test/0016E5_07979.png  \n",
            "  inflating: annotations_prepped_test-20230811T065240Z-001/annotations_prepped_test/0016E5_08061.png  \n",
            "  inflating: annotations_prepped_test-20230811T065240Z-001/annotations_prepped_test/0016E5_08041.png  \n",
            "  inflating: annotations_prepped_test-20230811T065240Z-001/annotations_prepped_test/0016E5_08153.png  \n",
            "  inflating: annotations_prepped_test-20230811T065240Z-001/annotations_prepped_test/0016E5_08147.png  \n",
            "  inflating: annotations_prepped_test-20230811T065240Z-001/annotations_prepped_test/0016E5_08101.png  \n",
            "  inflating: annotations_prepped_test-20230811T065240Z-001/annotations_prepped_test/0016E5_08139.png  \n",
            "  inflating: annotations_prepped_test-20230811T065240Z-001/annotations_prepped_test/0016E5_07997.png  \n",
            "  inflating: annotations_prepped_test-20230811T065240Z-001/annotations_prepped_test/0016E5_07991.png  \n",
            "  inflating: annotations_prepped_test-20230811T065240Z-001/annotations_prepped_test/0016E5_08031.png  \n",
            "  inflating: annotations_prepped_test-20230811T065240Z-001/annotations_prepped_test/0016E5_08083.png  \n",
            "  inflating: annotations_prepped_test-20230811T065240Z-001/annotations_prepped_test/0016E5_08015.png  \n",
            "  inflating: annotations_prepped_test-20230811T065240Z-001/annotations_prepped_test/0016E5_08071.png  \n"
          ]
        }
      ]
    },
    {
      "cell_type": "code",
      "source": [
        "!mv /content/datasets_used/train/images_prepped_train-20230811T065243Z-001/images_prepped_train/* /content/datasets_used/train/images/\n",
        "!mv /content/datasets_used/train/annotations_prepped_train-20230811T065240Z-001/annotations_prepped_train/* /content/datasets_used/train/masks/\n",
        "\n",
        "!mv /content/datasets_used/test/images_prepped_test-20230811T065241Z-001/images_prepped_test/*  /content/datasets_used/test/images/\n",
        "!mv /content/datasets_used/test/annotations_prepped_test-20230811T065240Z-001/annotations_prepped_test/* /content/datasets_used/test/masks/"
      ],
      "metadata": {
        "colab": {
          "base_uri": "https://localhost:8080/"
        },
        "id": "jX9O-dIh4EBx",
        "outputId": "cacc15c8-8da8-4d10-ce5f-0f250f47879e"
      },
      "execution_count": null,
      "outputs": [
        {
          "output_type": "stream",
          "name": "stdout",
          "text": [
            "mv: cannot stat '/content/datasets_used/train/images_prepped_train-20230811T065243Z-001/images_prepped_train/*': No such file or directory\n",
            "mv: cannot stat '/content/datasets_used/train/annotations_prepped_train-20230811T065240Z-001/annotations_prepped_train/*': No such file or directory\n",
            "mv: cannot stat '/content/datasets_used/test/images_prepped_test-20230811T065241Z-001/images_prepped_test/*': No such file or directory\n"
          ]
        }
      ]
    },
    {
      "cell_type": "code",
      "source": [
        "!rmdir /content/datasets_used/train/images_prepped_train-20230811T065243Z-001/images_prepped_train/\n",
        "!rmdir /content/datasets_used/train/annotations_prepped_train-20230811T065240Z-001/annotations_prepped_train/\n",
        "!rmdir /content/datasets_used/test/images_prepped_test-20230811T065241Z-001/images_prepped_test/\n",
        "!rmdir /content/datasets_used/test/annotations_prepped_test-20230811T065240Z-001/annotations_prepped_test/\n",
        "\n",
        "!rmdir /content/datasets_used/train/images_prepped_train-20230811T065243Z-001\n",
        "!rmdir /content/datasets_used/train/annotations_prepped_train-20230811T065240Z-001/\n",
        "!rmdir /content/datasets_used/test/images_prepped_test-20230811T065241Z-001/\n",
        "!rmdir /content/datasets_used/test/annotations_prepped_test-20230811T065240Z-001/"
      ],
      "metadata": {
        "colab": {
          "base_uri": "https://localhost:8080/"
        },
        "id": "DAghC0dD6zhs",
        "outputId": "58e5522f-f806-4662-9438-e6f53e8c45df"
      },
      "execution_count": null,
      "outputs": [
        {
          "output_type": "stream",
          "name": "stdout",
          "text": [
            "rmdir: failed to remove '/content/datasets_used/train/images_prepped_train-20230811T065243Z-001/images_prepped_train/': No such file or directory\n",
            "rmdir: failed to remove '/content/datasets_used/train/annotations_prepped_train-20230811T065240Z-001/annotations_prepped_train/': No such file or directory\n",
            "rmdir: failed to remove '/content/datasets_used/test/images_prepped_test-20230811T065241Z-001/images_prepped_test/': No such file or directory\n",
            "rmdir: failed to remove '/content/datasets_used/test/annotations_prepped_test-20230811T065240Z-001/annotations_prepped_test/': No such file or directory\n"
          ]
        }
      ]
    },
    {
      "cell_type": "code",
      "source": [
        "import os\n",
        "\n",
        "PATH = '/content/datasets_used/train/'\n",
        "files = os.listdir(PATH)\n",
        "\n",
        "print('n files: ', len(files))"
      ],
      "metadata": {
        "id": "t_VAvlKW7alK"
      },
      "execution_count": null,
      "outputs": []
    },
    {
      "cell_type": "code",
      "source": [
        "import os\n",
        "PATH_ROOT = '/content/datasets_used/'\n",
        "for tipe in ['train','test'] :\n",
        "  PATH_IMG = f\"{PATH_ROOT}/{tipe}/images/\"\n",
        "  PATH_MASK = f\"{PATH_ROOT}/{tipe}/masks/\"\n",
        "  files1 = os.listdir(PATH_IMG)\n",
        "  files2 = os.listdir(PATH_MASK)\n",
        "  print(f\"{PATH_IMG} : {len(files1)} files\")\n",
        "  print(f\"{PATH_MASK} : {len(files2)} files\")"
      ],
      "metadata": {
        "colab": {
          "base_uri": "https://localhost:8080/"
        },
        "id": "yhTu7xn48HJN",
        "outputId": "bafa16a2-045c-427d-8b53-01cfe1b726bc"
      },
      "execution_count": null,
      "outputs": [
        {
          "output_type": "stream",
          "name": "stdout",
          "text": [
            "/content/datasets_used//train/images/ : 398 files\n",
            "/content/datasets_used//train/masks/ : 367 files\n",
            "/content/datasets_used//test/images/ : 101 files\n",
            "/content/datasets_used//test/masks/ : 101 files\n"
          ]
        }
      ]
    },
    {
      "cell_type": "code",
      "source": [],
      "metadata": {
        "colab": {
          "base_uri": "https://localhost:8080/"
        },
        "id": "vLKUFMtG-9p5",
        "outputId": "f77f684b-0b63-4a72-9e8f-84851cc3372e"
      },
      "execution_count": null,
      "outputs": [
        {
          "output_type": "stream",
          "name": "stdout",
          "text": [
            "mkdir: cannot create directory ‘/content/datasets_used/train/no_masks’: File exists\n"
          ]
        }
      ]
    },
    {
      "cell_type": "markdown",
      "source": [
        "### There are mismatch between images and masks. Let's move it to no_masks directory"
      ],
      "metadata": {
        "id": "07ZcKG0YDkH3"
      }
    },
    {
      "cell_type": "code",
      "source": [
        "import os\n",
        "import numpy as np\n",
        "\n",
        "!mkdir /content/datasets_used/train/no_masks\n",
        "!mkdir /content/datasets_used/test/no_masks\n",
        "\n",
        "PATH_ROOT = '/content/datasets_used/'\n",
        "for tipe in ['train','test'] :\n",
        "  PATH_IMG = f\"{PATH_ROOT}/{tipe}/images/\"\n",
        "  PATH_MASK = f\"{PATH_ROOT}/{tipe}/masks/\"\n",
        "  PATH_NOMASK = f\"{PATH_ROOT}/{tipe}/no_masks/\"\n",
        "\n",
        "  files_img = os.listdir(PATH_IMG)\n",
        "  files_mask = os.listdir(PATH_MASK)\n",
        "  diff_files = np.setdiff1d(files_img, files_mask)\n",
        "  for x in diff_files:\n",
        "    os.replace(f\"{PATH_IMG}/{x}\", f\"{PATH_NOMASK}/{x}\")\n"
      ],
      "metadata": {
        "id": "G07RwON0_2t3"
      },
      "execution_count": null,
      "outputs": []
    },
    {
      "cell_type": "code",
      "source": [],
      "metadata": {
        "id": "g0slhY1IEseD"
      },
      "execution_count": null,
      "outputs": []
    },
    {
      "cell_type": "markdown",
      "source": [
        "### Copy fix dataset to drive"
      ],
      "metadata": {
        "id": "wPehaVCFEtlF"
      }
    },
    {
      "cell_type": "code",
      "source": [
        "!cp -r /content/datasets_used  \"/content/drive/MyDrive/Colab Notebooks/Driving_Car/\""
      ],
      "metadata": {
        "id": "aCwa2q8KEAUr"
      },
      "execution_count": null,
      "outputs": []
    },
    {
      "cell_type": "code",
      "source": [],
      "metadata": {
        "id": "KYwIlhPRFICv"
      },
      "execution_count": null,
      "outputs": []
    },
    {
      "cell_type": "code",
      "source": [
        "annotations_prepped_test-20230811T065240Z-001-20240502T190854Z-001.zip\n",
        "annotations_prepped_train-20230811T065240Z-001-20240502T190611Z-001.zip\n",
        "images_prepped_test-20230811T065241Z-001-20240502T190844Z-001.zip\n",
        "images_prepped_train-20230811T065243Z-001-20240502T190536Z-001.zip"
      ],
      "metadata": {
        "id": "WBv5wiT93if2"
      },
      "execution_count": null,
      "outputs": []
    }
  ]
}